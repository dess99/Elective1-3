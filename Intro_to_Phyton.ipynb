{
  "nbformat": 4,
  "nbformat_minor": 0,
  "metadata": {
    "colab": {
      "name": "Intro to Phyton",
      "provenance": [],
      "authorship_tag": "ABX9TyM2EOQpEjoTfJrGXWF+fUjy",
      "include_colab_link": true
    },
    "kernelspec": {
      "name": "python3",
      "display_name": "Python 3"
    },
    "language_info": {
      "name": "python"
    }
  },
  "cells": [
    {
      "cell_type": "markdown",
      "metadata": {
        "id": "view-in-github",
        "colab_type": "text"
      },
      "source": [
        "<a href=\"https://colab.research.google.com/github/dess99/Elective1-3/blob/main/Intro_to_Phyton.ipynb\" target=\"_parent\"><img src=\"https://colab.research.google.com/assets/colab-badge.svg\" alt=\"Open In Colab\"/></a>"
      ]
    },
    {
      "cell_type": "markdown",
      "source": [
        "##Phyton Indention"
      ],
      "metadata": {
        "id": "I_lx3jHmA-Vf"
      }
    },
    {
      "cell_type": "code",
      "source": [
        "if 5<2:\n",
        "  print(\"Five is less than two\")\n",
        "else:\n",
        "  print(\"Five is greater than two\")"
      ],
      "metadata": {
        "colab": {
          "base_uri": "https://localhost:8080/"
        },
        "id": "0lxSYTEFBGtg",
        "outputId": "cfb4450a-581c-4ba3-8ad8-b79c37a4dd5b"
      },
      "execution_count": null,
      "outputs": [
        {
          "output_type": "stream",
          "name": "stdout",
          "text": [
            "Five is greater than two\n"
          ]
        }
      ]
    },
    {
      "cell_type": "markdown",
      "source": [
        "##Phyton Comments"
      ],
      "metadata": {
        "id": "aIX9xvW7BT0L"
      }
    },
    {
      "cell_type": "code",
      "source": [
        "#This is a program that displays Hello, World\n",
        "\n",
        "print(\"Hello World\")\n",
        "print(\"Welcome to Python Programming\")"
      ],
      "metadata": {
        "colab": {
          "base_uri": "https://localhost:8080/"
        },
        "id": "MCXc93VeBWsg",
        "outputId": "f95c92ce-e476-44a0-d468-ad98791ecd5e"
      },
      "execution_count": null,
      "outputs": [
        {
          "output_type": "stream",
          "name": "stdout",
          "text": [
            "Hello World\n",
            "Welcome to Python Programming\n"
          ]
        }
      ]
    }
  ]
}