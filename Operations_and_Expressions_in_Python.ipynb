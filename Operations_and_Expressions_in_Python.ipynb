{
  "nbformat": 4,
  "nbformat_minor": 0,
  "metadata": {
    "colab": {
      "name": "Operations and Expressions in Python.ipynb",
      "provenance": [],
      "authorship_tag": "ABX9TyPzwYzNOH6UnCnbjpR84Kzl",
      "include_colab_link": true
    },
    "kernelspec": {
      "name": "python3",
      "display_name": "Python 3"
    },
    "language_info": {
      "name": "python"
    }
  },
  "cells": [
    {
      "cell_type": "markdown",
      "metadata": {
        "id": "view-in-github",
        "colab_type": "text"
      },
      "source": [
        "<a href=\"https://colab.research.google.com/github/dess99/Elective1-3/blob/main/Operations_and_Expressions_in_Python.ipynb\" target=\"_parent\"><img src=\"https://colab.research.google.com/assets/colab-badge.svg\" alt=\"Open In Colab\"/></a>"
      ]
    },
    {
      "cell_type": "code",
      "execution_count": null,
      "metadata": {
        "id": "go9mk_MezKBD"
      },
      "outputs": [],
      "source": [
        ""
      ]
    },
    {
      "cell_type": "markdown",
      "source": [
        "##Boolean Operators"
      ],
      "metadata": {
        "id": "k4geQi3S0Qq7"
      }
    },
    {
      "cell_type": "code",
      "source": [
        "x=10\n",
        "y=9\n",
        "\n",
        "print(10>9)\n",
        "print(x==y)\n",
        "x<y\n"
      ],
      "metadata": {
        "colab": {
          "base_uri": "https://localhost:8080/"
        },
        "id": "sOfO-iRS0TEU",
        "outputId": "eec1cd85-72d0-40f5-d7c4-289a3c179f1c"
      },
      "execution_count": null,
      "outputs": [
        {
          "output_type": "stream",
          "name": "stdout",
          "text": [
            "True\n",
            "False\n"
          ]
        },
        {
          "output_type": "execute_result",
          "data": {
            "text/plain": [
              "False"
            ]
          },
          "metadata": {},
          "execution_count": 4
        }
      ]
    },
    {
      "cell_type": "markdown",
      "source": [
        "##Bool Function"
      ],
      "metadata": {
        "id": "oABqkS7L1S2Z"
      }
    },
    {
      "cell_type": "code",
      "source": [
        "print(bool(\"Desiree\"))\n",
        "print(bool(16))\n",
        "\n",
        "print(bool(None))\n",
        "print(bool())\n",
        "print(bool([]))\n",
        "print(bool({}))\n",
        "print(bool(0))\n",
        "\n",
        "\n"
      ],
      "metadata": {
        "colab": {
          "base_uri": "https://localhost:8080/"
        },
        "id": "wln35qWi1XV4",
        "outputId": "08125df0-749b-45ba-aed5-d0b32312be74"
      },
      "execution_count": 41,
      "outputs": [
        {
          "output_type": "stream",
          "name": "stdout",
          "text": [
            "True\n",
            "True\n",
            "False\n",
            "False\n",
            "False\n",
            "False\n",
            "False\n"
          ]
        }
      ]
    },
    {
      "cell_type": "markdown",
      "source": [
        "##Defining Function\n"
      ],
      "metadata": {
        "id": "NTj4bzXY2S8P"
      }
    },
    {
      "cell_type": "code",
      "source": [
        "def myFunction():\n",
        "  return False\n",
        "\n",
        "print(myFunction())"
      ],
      "metadata": {
        "colab": {
          "base_uri": "https://localhost:8080/"
        },
        "id": "BnUOFPK72Zzv",
        "outputId": "bdc2f364-9580-4275-83a7-7e2ab11563be"
      },
      "execution_count": null,
      "outputs": [
        {
          "output_type": "stream",
          "name": "stdout",
          "text": [
            "False\n"
          ]
        }
      ]
    },
    {
      "cell_type": "code",
      "source": [
        "def myFunction():\n",
        "  return True\n",
        "\n",
        "  if myFunction():\n",
        "    print(\"Yes\")\n",
        "  else:\n",
        "    print(\"No\")"
      ],
      "metadata": {
        "id": "g_nSGuvg22Vm"
      },
      "execution_count": null,
      "outputs": []
    },
    {
      "cell_type": "markdown",
      "source": [
        "##Application 1\n"
      ],
      "metadata": {
        "id": "HUx9WAgo3X1-"
      }
    },
    {
      "cell_type": "code",
      "source": [
        "\n",
        "a=6\n",
        "b=7\n",
        "print(a==b)\n",
        "print(a!=b)"
      ],
      "metadata": {
        "colab": {
          "base_uri": "https://localhost:8080/"
        },
        "id": "5ndZ5NYI3cCd",
        "outputId": "10ebc708-ecb6-4054-ae3a-76a64a69d9a8"
      },
      "execution_count": null,
      "outputs": [
        {
          "output_type": "stream",
          "name": "stdout",
          "text": [
            "False\n",
            "False\n"
          ]
        }
      ]
    },
    {
      "cell_type": "markdown",
      "source": [
        "##Arithmetic Operations\n",
        "\n"
      ],
      "metadata": {
        "id": "0j2z38YG4tPs"
      }
    },
    {
      "cell_type": "code",
      "source": [
        "print(a+b)\n",
        "print(a-b)\n",
        "print(a*b)\n",
        "print(a**b)\n"
      ],
      "metadata": {
        "colab": {
          "base_uri": "https://localhost:8080/"
        },
        "id": "Pnmrf6oe4vjY",
        "outputId": "b347b0e1-010a-466f-b503-d2a806be28d9"
      },
      "execution_count": null,
      "outputs": [
        {
          "output_type": "stream",
          "name": "stdout",
          "text": [
            "13\n",
            "-1\n",
            "42\n",
            "279936\n"
          ]
        }
      ]
    },
    {
      "cell_type": "markdown",
      "source": [
        "##Bitwise Operators\n"
      ],
      "metadata": {
        "id": "orEXt1A95kJB"
      }
    },
    {
      "cell_type": "code",
      "source": [
        "c=60\n",
        "d=13\n",
        "\n",
        "print(c&d)\n",
        "print(c|d)\n",
        "print(c<<1)\n",
        "print(c<<2)\n"
      ],
      "metadata": {
        "colab": {
          "base_uri": "https://localhost:8080/"
        },
        "id": "T3NiZHyL5m8T",
        "outputId": "1b5a3cb8-d683-468f-b526-3daaca211b95"
      },
      "execution_count": null,
      "outputs": [
        {
          "output_type": "stream",
          "name": "stdout",
          "text": [
            "12\n",
            "61\n",
            "120\n",
            "240\n"
          ]
        }
      ]
    },
    {
      "cell_type": "markdown",
      "source": [
        "##Assignment Operators\n"
      ],
      "metadata": {
        "id": "Khm7WXSQ787m"
      }
    },
    {
      "cell_type": "code",
      "source": [
        "c+=3 ##c+=3 same as c= c+3\n",
        "c%=3\n",
        "print(c)"
      ],
      "metadata": {
        "colab": {
          "base_uri": "https://localhost:8080/"
        },
        "id": "tpQhrAno8AhU",
        "outputId": "0dccfe60-9b6c-4674-f6c6-cac934d144ad"
      },
      "execution_count": null,
      "outputs": [
        {
          "output_type": "stream",
          "name": "stdout",
          "text": [
            "0\n"
          ]
        }
      ]
    },
    {
      "cell_type": "markdown",
      "source": [
        "##Logical Operators\n"
      ],
      "metadata": {
        "id": "FZzKit4f8yzW"
      }
    },
    {
      "cell_type": "code",
      "source": [
        "c= True\n",
        "d= True\n",
        "\n",
        "not(c and d)\n"
      ],
      "metadata": {
        "colab": {
          "base_uri": "https://localhost:8080/"
        },
        "id": "FXTBpLP881Tm",
        "outputId": "0a77a620-089f-40e6-bf5c-8c337f02f31d"
      },
      "execution_count": null,
      "outputs": [
        {
          "output_type": "execute_result",
          "data": {
            "text/plain": [
              "False"
            ]
          },
          "metadata": {},
          "execution_count": 37
        }
      ]
    },
    {
      "cell_type": "markdown",
      "source": [
        "##Identity Operator"
      ],
      "metadata": {
        "id": "HVK2u9BG9R4n"
      }
    },
    {
      "cell_type": "code",
      "source": [
        "c is d\n",
        "c is not d"
      ],
      "metadata": {
        "colab": {
          "base_uri": "https://localhost:8080/"
        },
        "id": "c244Vm419Tlu",
        "outputId": "2de6b749-88c9-4152-f2cd-60d2bfa0eb3b"
      },
      "execution_count": null,
      "outputs": [
        {
          "output_type": "execute_result",
          "data": {
            "text/plain": [
              "False"
            ]
          },
          "metadata": {},
          "execution_count": 39
        }
      ]
    },
    {
      "cell_type": "markdown",
      "source": [
        "##Application 2"
      ],
      "metadata": {
        "id": "I3CTWZSe9ihs"
      }
    },
    {
      "cell_type": "code",
      "source": [
        "e=10\n",
        "f=5\n",
        "\n",
        "# Implement the oprations +, //, and bit shift right>> twice\n",
        "\n",
        "print(e+f)\n",
        "print(e//f) \n",
        "print(e>>2)\n",
        "print(f>>2)\n"
      ],
      "metadata": {
        "id": "y_Gwm1Hb9lQ2",
        "colab": {
          "base_uri": "https://localhost:8080/"
        },
        "outputId": "189bb65b-1874-4eb3-b14b-446b4460614d"
      },
      "execution_count": 40,
      "outputs": [
        {
          "output_type": "stream",
          "name": "stdout",
          "text": [
            "15\n",
            "2\n",
            "2\n",
            "1\n"
          ]
        }
      ]
    }
  ]
}